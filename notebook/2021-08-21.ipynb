{
 "cells": [
  {
   "cell_type": "markdown",
   "metadata": {},
   "source": [
    "# Conventional time series model\n",
    "\n",
    "## MA(q)\n",
    "$$X_t = Z_t + \\sum_{k=1}^{q}\\theta_kZ_{t-k}$$\n",
    "\n",
    "where $$Z_t \\sim N(0, \\sigma^{2})$$ \n",
    "\n",
    "For example\n",
    "\n",
    "$MA(2)$:\n",
    "$$X_t = Z_t + \\theta_1Z_{t-1} + \\theta_2Z_{t-2} $$"
   ]
  },
  {
   "cell_type": "code",
   "execution_count": null,
   "metadata": {},
   "outputs": [],
   "source": [
    "import numpy as np\n",
    "\n",
    "Z = np.random.randn(1000)"
   ]
  },
  {
   "cell_type": "code",
   "execution_count": null,
   "metadata": {},
   "outputs": [],
   "source": [
    "theta_1 = 0.7\n",
    "theta_2 = 0.2\n",
    "\n",
    "X = [Z[i] + theta_1 * Z[i-1] + theta_2 * Z[i-2] for i in range(2, len(Z))]"
   ]
  },
  {
   "cell_type": "code",
   "execution_count": null,
   "metadata": {},
   "outputs": [],
   "source": [
    "import matplotlib.pyplot as plt\n",
    "\n",
    "fig, ax = plt.subplots(figsize=(16, 6))\n",
    "\n",
    "ax.plot(X)"
   ]
  },
  {
   "cell_type": "code",
   "execution_count": null,
   "metadata": {},
   "outputs": [],
   "source": [
    "# compute acf\n",
    "\n",
    "from statsmodels.tsa.stattools import acf\n",
    "from statsmodels.graphics.tsaplots import plot_acf\n",
    "\n",
    "plot_acf(np.array(X)) # plot_acf only accepts np.ndarray type "
   ]
  },
  {
   "cell_type": "code",
   "execution_count": null,
   "metadata": {},
   "outputs": [],
   "source": [
    "from statsmodels.tsa.arima.model import ARIMA\n",
    "\n",
    "# Autoregressive Integrated Moving Average ARIMA(p,d,q) Model, p for autoregression, q for moving average, d for difference\n",
    "\n",
    "model = ARIMA(X, order=(0, 0, 2))"
   ]
  },
  {
   "cell_type": "code",
   "execution_count": null,
   "metadata": {},
   "outputs": [],
   "source": [
    "result = model.fit()"
   ]
  },
  {
   "cell_type": "code",
   "execution_count": null,
   "metadata": {},
   "outputs": [],
   "source": [
    "result.summary()  "
   ]
  },
  {
   "cell_type": "markdown",
   "metadata": {},
   "source": [
    "## AR(p)\n",
    "$$X_t = Z_t + \\sum_{k=1}^{p}\\theta_kX_{t-k}$$\n",
    "\n",
    "where $$Z_t \\sim N(0, \\sigma^{2})$$ \n",
    "\n",
    "For example \n",
    "AR(2):\n",
    "$$X_t = Z_t + \\theta_1X_{t-1} + \\theta_2X_{t-2}$$\n",
    "\n",
    "Random walk is an AR(1) process:\n",
    "\n",
    "$$X_t = Z_t + X_{t-1}$$"
   ]
  },
  {
   "cell_type": "code",
   "execution_count": null,
   "metadata": {},
   "outputs": [],
   "source": [
    "# Random walk example\n",
    "\n",
    "Z = np.random.randn(1000)\n",
    "\n",
    "X = [Z[0]]\n",
    "\n",
    "for z in Z[1:]:\n",
    "    X.append(X[-1] + z)"
   ]
  },
  {
   "cell_type": "code",
   "execution_count": null,
   "metadata": {},
   "outputs": [],
   "source": [
    "fig, ax = plt.subplots(figsize=(16, 6))\n",
    "\n",
    "ax.plot(X)"
   ]
  },
  {
   "cell_type": "code",
   "execution_count": null,
   "metadata": {},
   "outputs": [],
   "source": [
    "from statsmodels.graphics.tsaplots import plot_pacf\n",
    "\n",
    "plot_pacf(np.array(X))"
   ]
  },
  {
   "cell_type": "code",
   "execution_count": null,
   "metadata": {},
   "outputs": [],
   "source": [
    "model = ARIMA(X, order=(1, 0, 0))\n",
    "result = model.fit()\n",
    "result.summary()  "
   ]
  },
  {
   "cell_type": "code",
   "execution_count": null,
   "metadata": {},
   "outputs": [],
   "source": [
    "# AR(2)\n",
    "\n",
    "theta_1 = 0.4\n",
    "theta_2 = -0.2\n",
    "\n",
    "X = [Z[0], Z[1] + theta_1 * Z[0]]\n",
    "\n",
    "for z in Z[2:]:\n",
    "    X.append(z + theta_1 * X[-1] + theta_2 * X[-2])"
   ]
  },
  {
   "cell_type": "code",
   "execution_count": null,
   "metadata": {},
   "outputs": [],
   "source": [
    "fig, ax = plt.subplots(figsize=(16, 6))\n",
    "\n",
    "ax.plot(X)"
   ]
  },
  {
   "cell_type": "code",
   "execution_count": null,
   "metadata": {},
   "outputs": [],
   "source": [
    "plot_pacf(np.array(X))"
   ]
  },
  {
   "cell_type": "code",
   "execution_count": null,
   "metadata": {},
   "outputs": [],
   "source": [
    "model = ARIMA(X, order=(2, 0, 0))\n",
    "result = model.fit()\n",
    "result.summary()  "
   ]
  },
  {
   "cell_type": "markdown",
   "metadata": {},
   "source": [
    "# Real world data"
   ]
  },
  {
   "cell_type": "code",
   "execution_count": null,
   "metadata": {},
   "outputs": [],
   "source": [
    "import os\n",
    "\n",
    "import pandas as pd\n",
    "\n",
    "os.chdir(\"/\".join(os.getcwd().split(\"/\")[:-1]))\n",
    "\n",
    "\n",
    "def load_data():\n",
    "    \n",
    "    filename = \"data/raw/原始資料.xlsx\"\n",
    "\n",
    "    xls = pd.ExcelFile(filename, engine='openpyxl')\n",
    "    df = pd.read_excel(xls, index_col=0)\n",
    "\n",
    "    df = df[['代號', '數量']]\n",
    "\n",
    "    df.reset_index(inplace=True)\n",
    "    df_sum = df.groupby(['代號', '交易日期'], as_index=False)['數量'].sum()\n",
    "\n",
    "    # Identify unique 代號\n",
    "    unique_product_code = np.unique(df_sum['代號'])\n",
    "\n",
    "    product_df_list = []\n",
    "\n",
    "    # Replace all the 數量 with the 代號\n",
    "    for code in unique_product_code:\n",
    "        temp = df_sum[df_sum['代號']==code].set_index(\"交易日期\")\n",
    "        temp.drop(labels=['代號'], inplace=True, axis=1)\n",
    "        temp.rename(columns={'數量': code}, inplace=True)\n",
    "        product_df_list.append(temp)\n",
    "\n",
    "    df_parsed = pd.concat(product_df_list, axis=1)\n",
    "    \n",
    "    return df_parsed\n",
    "\n",
    "df_parsed = load_data()"
   ]
  },
  {
   "cell_type": "code",
   "execution_count": null,
   "metadata": {},
   "outputs": [],
   "source": [
    "df_parsed"
   ]
  },
  {
   "cell_type": "code",
   "execution_count": null,
   "metadata": {},
   "outputs": [],
   "source": [
    "df_A = df_parsed[['A']]\n",
    "df_A = df_A.resample('1D').sum()\n",
    "df_A.fillna(0, inplace=True)\n",
    "\n",
    "weeks = [idx.week for idx in df_A.index]\n",
    "df_A['week'] = weeks\n",
    "years = [idx.year for idx in df_A.index]\n",
    "df_A['year'] = years\n",
    "\n",
    "df_A_year_week = df_A.groupby(['week', 'year'], as_index=False)['A'].sum()\n",
    "\n",
    "df_A_year_week.sort_values(by=['year', 'week'], inplace=True)\n",
    "\n",
    "df_A_year_week.reset_index(drop=True, inplace=True)"
   ]
  },
  {
   "cell_type": "code",
   "execution_count": null,
   "metadata": {},
   "outputs": [],
   "source": [
    "df_A_year_week.head()"
   ]
  },
  {
   "cell_type": "code",
   "execution_count": null,
   "metadata": {},
   "outputs": [],
   "source": [
    "fig, ax = plt.subplots(figsize=(8,6))\n",
    "\n",
    "ax.plot(df_A_year_week['A'])"
   ]
  },
  {
   "cell_type": "code",
   "execution_count": null,
   "metadata": {},
   "outputs": [],
   "source": [
    "A = df_A_year_week['A'].values"
   ]
  },
  {
   "cell_type": "markdown",
   "metadata": {},
   "source": [
    "## MA(q)"
   ]
  },
  {
   "cell_type": "code",
   "execution_count": null,
   "metadata": {},
   "outputs": [],
   "source": [
    "plot_acf(A)"
   ]
  },
  {
   "cell_type": "code",
   "execution_count": null,
   "metadata": {},
   "outputs": [],
   "source": [
    "model_MA5 = ARIMA(A, order=(0, 0, 5))\n",
    "result = model_MA5.fit()\n",
    "result.summary()"
   ]
  },
  {
   "cell_type": "code",
   "execution_count": null,
   "metadata": {},
   "outputs": [],
   "source": [
    "model_MA3 = ARIMA(A, order=(0, 0, 3))\n",
    "result = model_MA3.fit()\n",
    "result.summary()"
   ]
  },
  {
   "cell_type": "markdown",
   "metadata": {},
   "source": [
    "## How to get an 'optimized' model with respect to AIC by tuning q"
   ]
  },
  {
   "cell_type": "code",
   "execution_count": null,
   "metadata": {},
   "outputs": [],
   "source": [
    "max_aic = np.inf\n",
    "optimized_q = 0\n",
    "\n",
    "for q in range(1, 12):\n",
    "    \n",
    "    model = ARIMA(A, order=(0, 0, q))\n",
    "    fitted_model = model.fit()\n",
    "    aic = fitted_model.aic\n",
    "    \n",
    "    if aic < max_aic:\n",
    "        max_aic = aic\n",
    "        optimized_q = q"
   ]
  },
  {
   "cell_type": "code",
   "execution_count": null,
   "metadata": {},
   "outputs": [],
   "source": [
    "max_aic"
   ]
  },
  {
   "cell_type": "code",
   "execution_count": null,
   "metadata": {},
   "outputs": [],
   "source": [
    "optimized_q"
   ]
  },
  {
   "cell_type": "markdown",
   "metadata": {},
   "source": [
    "## MA(q) Prediction"
   ]
  },
  {
   "cell_type": "code",
   "execution_count": null,
   "metadata": {},
   "outputs": [],
   "source": [
    "predictions = result.predict(start=0, end=len(A)-1)"
   ]
  },
  {
   "cell_type": "code",
   "execution_count": null,
   "metadata": {},
   "outputs": [],
   "source": [
    "fig, ax = plt.subplots(figsize=(8,6))\n",
    "\n",
    "ax.plot(df_A_year_week['A'], c='b', label='Obervation')\n",
    "ax.plot(predictions, c='r', label='Prediction')"
   ]
  },
  {
   "cell_type": "code",
   "execution_count": null,
   "metadata": {},
   "outputs": [],
   "source": [
    "result.forecast(steps=10)"
   ]
  },
  {
   "cell_type": "markdown",
   "metadata": {},
   "source": [
    "## AR(p)"
   ]
  },
  {
   "cell_type": "code",
   "execution_count": null,
   "metadata": {},
   "outputs": [],
   "source": [
    "plot_pacf(A)"
   ]
  },
  {
   "cell_type": "code",
   "execution_count": null,
   "metadata": {},
   "outputs": [],
   "source": [
    "model_AR2 = ARIMA(A, order=(2, 0, 0))\n",
    "result = model_AR2.fit()\n",
    "result.summary()"
   ]
  },
  {
   "cell_type": "markdown",
   "metadata": {},
   "source": [
    "## ARMA(p, q)\n",
    "$$X_t = Z_t + \\sum_{k=1}^{p}\\theta_kX_{t-k} + \\sum_{k=1}^{q}\\phi_kZ_{t-k}$$\n",
    "\n",
    "## Backward shift operator\n",
    "\n",
    "$$ BX_t = X_{t-1} $$\n",
    "$$ B^2X_t = X_{t-2} $$\n",
    "$$ B^kX_t = X_{t-k} $$\n",
    "\n",
    "\n",
    "With backward shift operator, for formula can be simplified:\n",
    "\n",
    "$$(1 -  \\sum_{k=1}^{p}\\theta_kB^k)X_t = (1 + \\sum_{k=1}^{q}\\phi_kB^k)Z_t$$"
   ]
  },
  {
   "cell_type": "code",
   "execution_count": null,
   "metadata": {},
   "outputs": [],
   "source": [
    "model_ARMA = ARIMA(A, order=(2, 0, 4))\n",
    "result = model_ARMA.fit()\n",
    "result.summary()"
   ]
  },
  {
   "cell_type": "code",
   "execution_count": null,
   "metadata": {},
   "outputs": [],
   "source": [
    "# Get optimized p and q for ARMA\n",
    "\n",
    "max_aic = np.inf\n",
    "optimized_q = 0\n",
    "optimized_p = 0\n",
    "\n",
    "for q in range(1, 6):\n",
    "    for p in range(1, 4):\n",
    "        model = ARIMA(A, order=(p, 0, q))\n",
    "        fitted_model = model.fit()\n",
    "        aic = fitted_model.aic\n",
    "        \n",
    "#         print(f\"aic = {aic}, p = {p}, q = {q}\")\n",
    "        \n",
    "        if aic < max_aic:\n",
    "            max_aic = aic\n",
    "            optimized_q = q\n",
    "            optimized_p = p"
   ]
  },
  {
   "cell_type": "code",
   "execution_count": null,
   "metadata": {},
   "outputs": [],
   "source": [
    "model = ARIMA(A, order=(1, 0, 1))\n",
    "fitted_model = model.fit()\n",
    "predictions = fitted_model.predict(start=0, end=len(A)-1)\n",
    "\n",
    "fig, ax = plt.subplots(figsize=(8,6))\n",
    "\n",
    "ax.plot(df_A_year_week['A'], c='b', label='Obervation')\n",
    "ax.plot(predictions, c='r', label='Prediction')"
   ]
  },
  {
   "cell_type": "markdown",
   "metadata": {},
   "source": [
    "## ARIMA\n",
    "\n",
    "ARIMA(p, d, q) process:\n",
    "    A process $X_t$ is Autoregressive Interated Moving Average of order (p, q, d) if \n",
    "    \n",
    "$$Y_t:=\\nabla^dX_t = (1-B)^dX_t$$  \n",
    "\n",
    "is ARMA(p, q). \n",
    "\n",
    "$$Y_t \\sim ARMA(p, q)$$ => $$X_t \\sim ARIMA(p, d, q)$$\n",
    "\n",
    "\n",
    "1. $d = 1$ or $d = 2$\n",
    "2. ACF decays very slowly."
   ]
  },
  {
   "cell_type": "code",
   "execution_count": null,
   "metadata": {},
   "outputs": [],
   "source": [
    "A_diff = np.diff(A)"
   ]
  },
  {
   "cell_type": "code",
   "execution_count": null,
   "metadata": {},
   "outputs": [],
   "source": [
    "fig, ax = plt.subplots(figsize=(16, 6))\n",
    "\n",
    "ax.plot(A_diff)"
   ]
  },
  {
   "cell_type": "code",
   "execution_count": null,
   "metadata": {},
   "outputs": [],
   "source": [
    "plot_acf(A_diff)"
   ]
  },
  {
   "cell_type": "code",
   "execution_count": null,
   "metadata": {},
   "outputs": [],
   "source": [
    "model_ma1_i = ARIMA(A_diff, order=(0, 0, 1))\n",
    "fitted_model = model_ma1_i.fit()\n",
    "fitted_model.summary()"
   ]
  },
  {
   "cell_type": "code",
   "execution_count": null,
   "metadata": {},
   "outputs": [],
   "source": [
    "plot_pacf(A_diff)"
   ]
  },
  {
   "cell_type": "code",
   "execution_count": null,
   "metadata": {},
   "outputs": [],
   "source": [
    "model_ap4_i = ARIMA(A_diff, order=(4, 0, 0))\n",
    "fitted_model = model_ap4_i.fit()\n",
    "fitted_model.summary()"
   ]
  },
  {
   "cell_type": "code",
   "execution_count": null,
   "metadata": {},
   "outputs": [],
   "source": [
    "# ARMA\n",
    "\n",
    "max_aic = np.inf\n",
    "optimized_q = 0\n",
    "optimized_p = 0\n",
    "\n",
    "for q in range(1, 3):\n",
    "    for p in range(0, 5):\n",
    "        model = ARIMA(A_diff, order=(p, 0, q))\n",
    "        fitted_model = model.fit()\n",
    "        aic = fitted_model.aic\n",
    "        \n",
    "        if aic < max_aic:\n",
    "            max_aic = aic\n",
    "            optimized_q = q\n",
    "            optimized_p = p"
   ]
  },
  {
   "cell_type": "code",
   "execution_count": null,
   "metadata": {},
   "outputs": [],
   "source": [
    "max_aic"
   ]
  },
  {
   "cell_type": "code",
   "execution_count": null,
   "metadata": {},
   "outputs": [],
   "source": [
    "optimized_p"
   ]
  },
  {
   "cell_type": "code",
   "execution_count": null,
   "metadata": {},
   "outputs": [],
   "source": [
    "optimized_q"
   ]
  },
  {
   "cell_type": "markdown",
   "metadata": {},
   "source": [
    "# Seasonal ARIMA (SARIMA)\n",
    "\n",
    "Box - Jenkins Seasonal ARIMA model\n",
    "\n",
    "\\* Data might contain seasonal periodic component in addition to correlation with recent lags.\n",
    "\n",
    "\\* It repeats every $s$ observations.\n",
    "\n",
    "\\* For a time series of monthly observations, $X_t$ might depend on annual lags. i.e. $X_{t-12}$, $X_{t-24}$ \n",
    "\n",
    "\\* Quarterly data might have period of $s=4$"
   ]
  },
  {
   "cell_type": "markdown",
   "metadata": {},
   "source": [
    "## Pure Seasonal ARMA process\n",
    "\n",
    "$ARMA(P, Q)$ has the form:\n",
    "$$\\Phi_p(B^s)X_t = \\Theta_Q(B^s)Z_t$$\n",
    "where\n",
    "$$\\Phi_P(B^s) = 1 - \\Phi_1B^s - \\Phi_2B^{2s} - \\cdots - \\Phi_PB^(Ps)$$\n",
    "and\n",
    "$$\\Theta_Q(B^s) = 1 + \\Theta_1B^s + \\Theta_2B^{2s} + \\cdots + \\Theta_QB^(Qs)$$\n",
    "\n",
    "Example 1: Seasonal $ARMA(1,0)_{12}$ has the form\n",
    "$$(1-\\Phi_1B^{12})X_t = Z_t$$\n",
    "i.e.\n",
    "$$X_t=\\Phi_1X_{t-12} + Z_t$$\n",
    "\n",
    "Example 2: Seasonal $ARMA(1,1)_{12}$ has the form\n",
    "$$(1-\\Phi_1B^{12})X_t = (1+\\Theta_1B^{12})Z_t$$\n",
    "i.e.\n",
    "$$X_t=\\Phi_1X_{t-12} + Z_t + \\Theta_1Z_{t-12}$$\n"
   ]
  },
  {
   "cell_type": "markdown",
   "metadata": {},
   "source": [
    "## Seasonal ARIMA process (SARIMA)\n",
    "\n",
    "$SARIMA(p,d,q, P,D,Q)_s$ has the form\n",
    "\n",
    "$$\\Phi_P(B^s)\\phi_p(B)(1-B^s)^D(1-B)^dX_t = \\Theta_Q(B^s)\\theta_q(B)Z_t$$\n",
    "\n",
    "where\n",
    "\n",
    "$$\\theta_q(B) = 1 + \\theta_1B + \\cdots +\\theta_qB^q$$\n",
    "\n",
    "$$\\Theta_Q(B^s) = 1 + \\Theta_1B^s + \\Theta_2B^{2s} + \\cdots + \\Theta_QB^{Qs}$$\n",
    "\n",
    "$$\\phi_p(B) = 1 - \\phi_1B - \\phi_2B^2 - \\cdots - \\phi_pB^p$$\n",
    "\n",
    "$$\\Phi_P(B^s) = 1 - \\Phi_1B^s - \\Phi_2B^{2s} - \\cdots - \\Phi_PB^{Ps}$$"
   ]
  },
  {
   "cell_type": "markdown",
   "metadata": {},
   "source": [
    "Example 3 - $SARIMA(1,0,0,1,0,1)_{12}$\n",
    "\n",
    "$$(1-\\phi_1B)(1-\\Phi_1B^{12})X_t = (1+\\Phi_1B^{12})Z_t$$\n",
    "\n",
    "$$(1 - \\phi_1B - \\Phi_1B^{12} + \\phi_1\\Phi_1B^{13})X_t = Z_t + \\Phi_1Z_{t-12}$$\n",
    "\n",
    "Thus\n",
    "\n",
    "$$X_t = \\phi_1X_{t-1} + \\Phi_1X_{t-12} - \\phi_1\\Phi_1X_{t-13} + Z_t + \\Phi_1Z_{t-12}$$\n",
    "\n",
    "Example 4 - $SARIMA(0,1,1,0,0,1)_4$\n",
    "\n",
    "$$(1-B)X_t = (1+\\Theta_1B^4)(1+\\theta_1B)Z_t$$"
   ]
  },
  {
   "cell_type": "markdown",
   "metadata": {},
   "source": [
    "## ACF of SARIMA models\n",
    "\n",
    "Example: $SARIMA(0,0,1,0,0,1)_{12}$\n",
    "\n",
    "$$X_t=(1+\\Theta_1B^{12})(1+\\theta_1B)Z_t$$\n",
    "\n",
    "$\\theta=0.7$ and $\\Theta=0.6$ (ignore the subscription).\n",
    "\n",
    "$$X_t=Z_t+0.7Z_{t-1}+0.6Z_{t-12}+0.42Z_{t-13}$$"
   ]
  },
  {
   "cell_type": "code",
   "execution_count": null,
   "metadata": {},
   "outputs": [],
   "source": [
    "Z = np.random.randn(1000)\n",
    "\n",
    "X = [Z[i] + 0.7 * Z[i-1] + 0.6 * Z[i-12] + 0.42 * Z[i-13] for i in range(13, 1000)]\n"
   ]
  },
  {
   "cell_type": "code",
   "execution_count": null,
   "metadata": {},
   "outputs": [],
   "source": [
    "fig, ax = plt.subplots(figsize=(16, 6))\n",
    "\n",
    "ax.plot(X)"
   ]
  },
  {
   "cell_type": "code",
   "execution_count": null,
   "metadata": {},
   "outputs": [],
   "source": [
    "plot_acf(np.array(X))"
   ]
  },
  {
   "cell_type": "markdown",
   "metadata": {},
   "source": [
    "## Let us look at the real world data"
   ]
  },
  {
   "cell_type": "code",
   "execution_count": null,
   "metadata": {},
   "outputs": [],
   "source": [
    "_ = plot_acf(A)"
   ]
  },
  {
   "cell_type": "code",
   "execution_count": null,
   "metadata": {},
   "outputs": [],
   "source": [
    "_ = plot_pacf(A)"
   ]
  },
  {
   "cell_type": "code",
   "execution_count": null,
   "metadata": {},
   "outputs": [],
   "source": [
    "_ = plot_acf(A_diff)"
   ]
  },
  {
   "cell_type": "code",
   "execution_count": null,
   "metadata": {},
   "outputs": [],
   "source": [
    "_ = plot_pacf(A_diff)"
   ]
  },
  {
   "cell_type": "code",
   "execution_count": null,
   "metadata": {},
   "outputs": [],
   "source": [
    "from statsmodels.tsa.statespace.sarimax import SARIMAX\n",
    "\n",
    "model = SARIMAX(A, order=(1,1,1), seasonal_order=(1,0,0,7))\n",
    "results = model.fit()"
   ]
  },
  {
   "cell_type": "code",
   "execution_count": null,
   "metadata": {},
   "outputs": [],
   "source": [
    "results.summary()"
   ]
  },
  {
   "cell_type": "code",
   "execution_count": null,
   "metadata": {},
   "outputs": [],
   "source": [
    "model = SARIMAX(A, order=(2,1,3), seasonal_order=(0,1,1,7), )\n",
    "results = model.fit()\n",
    "results.summary()"
   ]
  },
  {
   "cell_type": "code",
   "execution_count": null,
   "metadata": {},
   "outputs": [],
   "source": [
    "pred_A = results.predict(start=0, end=len(A)-1)"
   ]
  },
  {
   "cell_type": "code",
   "execution_count": null,
   "metadata": {},
   "outputs": [],
   "source": [
    "A_residue = A - pred_A"
   ]
  },
  {
   "cell_type": "code",
   "execution_count": null,
   "metadata": {},
   "outputs": [],
   "source": [
    "fig, ax = plt.subplots(figsize=(16, 6))\n",
    "\n",
    "ax.plot(A_residue)"
   ]
  },
  {
   "cell_type": "code",
   "execution_count": null,
   "metadata": {},
   "outputs": [],
   "source": [
    "_ = plot_acf(A_residue)"
   ]
  },
  {
   "cell_type": "code",
   "execution_count": null,
   "metadata": {},
   "outputs": [],
   "source": [
    "_ = plot_pacf(A_residue)"
   ]
  },
  {
   "cell_type": "code",
   "execution_count": null,
   "metadata": {},
   "outputs": [],
   "source": [
    "# \n",
    "\n",
    "fig, ax = plt.subplots(figsize=(16, 6))\n",
    "\n",
    "ax.plot(A, c='b', label='ground_truth')\n",
    "ax.plot(pred_A, c='r', label='prediction')\n",
    "\n",
    "ax.legend()"
   ]
  },
  {
   "cell_type": "code",
   "execution_count": null,
   "metadata": {},
   "outputs": [],
   "source": []
  }
 ],
 "metadata": {
  "kernelspec": {
   "display_name": "Python 3",
   "language": "python",
   "name": "python3"
  },
  "language_info": {
   "codemirror_mode": {
    "name": "ipython",
    "version": 3
   },
   "file_extension": ".py",
   "mimetype": "text/x-python",
   "name": "python",
   "nbconvert_exporter": "python",
   "pygments_lexer": "ipython3",
   "version": "3.7.10"
  }
 },
 "nbformat": 4,
 "nbformat_minor": 5
}
